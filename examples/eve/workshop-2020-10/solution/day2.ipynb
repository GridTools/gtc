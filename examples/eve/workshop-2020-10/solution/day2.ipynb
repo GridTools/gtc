{
 "metadata": {
  "language_info": {
   "codemirror_mode": {
    "name": "ipython",
    "version": 3
   },
   "file_extension": ".py",
   "mimetype": "text/x-python",
   "name": "python",
   "nbconvert_exporter": "python",
   "pygments_lexer": "ipython3",
   "version": "3.8.5-final"
  },
  "orig_nbformat": 2,
  "kernelspec": {
   "name": "Python 3.8.5 64-bit ('.eve.venv': venv)",
   "display_name": "Python 3.8.5 64-bit ('.eve.venv': venv)",
   "metadata": {
    "interpreter": {
     "hash": "e6b326ece5b751d181dee9ccaf6a65b49d127ad18523de0521bf0f61a6f8ec6a"
    }
   }
  }
 },
 "nbformat": 4,
 "nbformat_minor": 2,
 "cells": [
  {
   "source": [
    "# Eve hands-on day 2\n",
    "\n",
    "You start from a high level IR representing the following DSL\n",
    "\n",
    "```python\n",
    "def fun(out_field, in_field):\n",
    "    out_field = -4 * in_field[0,0] + in_field[-1,0] + in_field[1,0] + in_field[0,-1] + in_field[0,1]\n",
    "```\n",
    "\n",
    "- Write a pass: extent analysis\n",
    "- Lower from HIR to LIR\n",
    "\n",
    "The HIR is provided in the file `hir.py` as well as the implementation of the Laplacian in that dialect (see below).\n",
    "Feel free to change the skeleton for `ExtentAnalysis` and `HIRtoLIR` as you like."
   ],
   "cell_type": "markdown",
   "metadata": {}
  },
  {
   "source": [
    "## Preparation\n",
    "\n",
    "Create a new file called `lir.py` and put your dialect from *Day 1* into that file. For simplicity also put the code generator in this file."
   ],
   "cell_type": "markdown",
   "metadata": {}
  },
  {
   "cell_type": "code",
   "execution_count": null,
   "metadata": {},
   "outputs": [],
   "source": [
    "# Definition of the Laplacian in HIR (don't change)\n",
    "\n",
    "import hir\n",
    "from hir import *\n",
    "\n",
    "lap_expr = BinaryOp(left=BinaryOp(left=Literal(value=\"-4\"), right=FieldAccess(name=\"in\", offset=Offset.zero()), op=\"*\"), right=BinaryOp(left=BinaryOp(left=FieldAccess(name=\"in\", offset=Offset(i=-1,j=0)),right=FieldAccess(name=\"in\", offset=Offset(i=1,j=0)),op=\"+\"),right=BinaryOp(left=FieldAccess(name=\"in\", offset=Offset(i=0,j=-1)),right=FieldAccess(name=\"in\", offset=Offset(i=0,j=1)),op=\"+\"),op=\"+\"), op=\"+\")\n",
    "assign = AssignStmt(left=FieldAccess(name=\"out\", offset=Offset.zero()), right=lap_expr)\n",
    "stencil = Stencil(name=\"lap\", params=[FieldParam(name=\"out\"), FieldParam(name=\"in\")], body=[assign])\n",
    "\n",
    "from devtools import debug\n",
    "debug(stencil)"
   ]
  },
  {
   "cell_type": "code",
   "execution_count": null,
   "metadata": {},
   "outputs": [],
   "source": [
    "# Feel free to change the signature of the provided methods (or remove them) if you prefer a different structure.\n",
    "import eve\n",
    "\n",
    "class Extent(eve.Model):\n",
    "    i_left: int\n",
    "    i_right: int\n",
    "    j_left: int\n",
    "    j_right: int\n",
    "\n",
    "    @classmethod\n",
    "    def zero(cls):\n",
    "        return cls(i_left = 0, i_right = 0, j_left = 0, j_right = 0)\n",
    "\n",
    "    def __add__(self, other):\n",
    "        if other is None:\n",
    "            return self\n",
    "        else:\n",
    "            return type(self)(i_left=min(self.i_left, other.i_left), i_right=max(self.i_right, other.i_right),j_left=min(self.j_left, other.j_left), j_right=max(self.j_right, other.j_right))\n",
    "\n",
    "    @classmethod\n",
    "    def from_offset(cls, offset: Offset):\n",
    "        return cls(i_left=min(0, offset.i), i_right=max(0,offset.i), j_left=min(0,offset.j), j_right=max(0, offset.j))\n",
    "\n",
    "# class ExtentAnalysis(eve.NodeVisitor):\n",
    "#     def __init__(self, **kwargs):\n",
    "#         super().__init__()\n",
    "#         self.extents = {}\n",
    "\n",
    "#     @classmethod\n",
    "#     def apply(cls, root: Stencil, **kwargs):\n",
    "#         analysis = cls()\n",
    "#         analysis.visit(root)\n",
    "#         return analysis.extents\n",
    "\n",
    "#     def visit_FieldAccess(self, node: FieldAccess, **kwargs):\n",
    "#         if not kwargs[\"cur_assign\"]:\n",
    "#             raise ValueError(\"FieldAccess outside of assignment\")\n",
    "#         self.extents[kwargs[\"cur_assign\"]] += Extent.from_offset(node.offset)\n",
    "\n",
    "#     def visit_AssignStmt(self, node: AssignStmt, **kwargs):\n",
    "#         self.extents[node.id_] = Extent.zero()\n",
    "#         self.visit(node.right, cur_assign = node.id_)\n",
    "\n",
    "\n",
    "class ExtentAnalysis(eve.NodeVisitor):\n",
    "    @classmethod\n",
    "    def apply(cls, root: Stencil, **kwargs):\n",
    "        return cls().visit(root)\n",
    "        \n",
    "    def visit_Expr(self, node: Expr, **kwargs):\n",
    "        extent = Extent.zero()\n",
    "        for value in node.iter_children_values():\n",
    "            extent += self.visit(value, **kwargs)\n",
    "        return extent\n",
    "\n",
    "    def visit_FieldAccess(self, node: FieldAccess, **kwargs):\n",
    "        return Extent.from_offset(node.offset)\n",
    "\n",
    "    def visit_AssignStmt(self, node: AssignStmt, **kwargs):\n",
    "        return self.visit(node.right, **kwargs)\n",
    "    \n",
    "    def visit_Stencil(self, node: Stencil, **kwargs):\n",
    "        return {s.id_: self.visit(s, **kwargs) for s in node.body}\n"
   ]
  },
  {
   "cell_type": "code",
   "execution_count": null,
   "metadata": {},
   "outputs": [],
   "source": [
    "# Feel free to change the signature of the provided methods (or remove them) if you prefer a different structure.\n",
    "\n",
    "import eve\n",
    "import lir\n",
    "\n",
    "class HIRToLIR(eve.NodeTranslator):\n",
    "    def __init__(self, extents, **kwargs):\n",
    "        self.extents = extents\n",
    "\n",
    "    @classmethod\n",
    "    def apply(cls, root: Stencil, extents, **kwargs):\n",
    "        hir_to_lir = cls(extents)\n",
    "        return hir_to_lir.visit(root)\n",
    "\n",
    "    def _literal_translation(self, node: Node, **kwargs):\n",
    "        new_class_name = node.__class__.__name__  # mapping[node.__class__]\n",
    "        new_class = getattr(lir, new_class_name)\n",
    "        return new_class(**{key: self.visit(value) for key, value in node.iter_children()})\n",
    "\n",
    "    visit_Literal = _literal_translation\n",
    "    visit_BinaryOp = _literal_translation\n",
    "    visit_FieldAccess = _literal_translation\n",
    "    visit_Offset = _literal_translation\n",
    "\n",
    "    # def visit_Literal(self, node: Literal, **kwargs):\n",
    "    #     return lir.Literal(value=node.value)\n",
    "\n",
    "    # def visit_BinaryOp(self, node: BinaryOp, **kwargs):\n",
    "    #     return lir.BinaryOp(left=self.visit(node.left), right=self.visit(node.right), op=node.op)\n",
    "    \n",
    "    # def visit_FieldAccess(self, node: FieldAccess, **kwargs):\n",
    "    #     return lir.FieldAccess(name=node.name, offset=self.visit(node.offset))\n",
    "    \n",
    "    # def visit_Offset(self, node: Offset, **kwargs):\n",
    "    #     return lir.Offset(i=node.i, j=node.j)\n",
    "\n",
    "    def visit_FieldParam(self, node: FieldParam, **kwargs):\n",
    "        return lir.FieldDecl(name=node.name)\n",
    "\n",
    "    def visit_AssignStmt(self, node: AssignStmt, **kwargs):\n",
    "        extent : Extent = self.extents[node.id_]\n",
    "        return lir.HorizontalLoop(body=[lir.AssignStmt(left=self.visit(node.left), right=self.visit(node.right))], i_indent=lir.Indent(left=-extent.i_left, right=extent.i_right), j_indent=lir.Indent(left=-extent.j_left, right=extent.j_right))\n",
    "\n",
    "    def visit_Stencil(self, node: Stencil, **kwargs):\n",
    "        return lir.Fun(name=node.name, params=[self.visit(p) for p in node.params], horizontal_loops=[self.visit(stmt) for stmt in node.body])\n"
   ]
  },
  {
   "cell_type": "code",
   "execution_count": null,
   "metadata": {},
   "outputs": [],
   "source": [
    "# No need to change anything here (except if you changed names of passes or signature of apply)\n",
    "\n",
    "extents = ExtentAnalysis.apply(stencil)\n",
    "lir_stencil = HIRToLIR.apply(stencil, extents)\n",
    "debug(lir_stencil)"
   ]
  },
  {
   "cell_type": "code",
   "execution_count": null,
   "metadata": {},
   "outputs": [],
   "source": [
    "# Don't touch\n",
    "import os\n",
    "\n",
    "cppcode = lir.LIR_to_cpp.apply(lir_stencil)\n",
    "formatted_code = eve.codegen.format_source(\"cpp\", cppcode, style=\"LLVM\")\n",
    "print(formatted_code)\n",
    "\n",
    "output_file = \"generated.hpp\"\n",
    "with open(output_file, \"w+\") as output:\n",
    "    output.write(formatted_code)"
   ]
  },
  {
   "cell_type": "code",
   "execution_count": null,
   "metadata": {},
   "outputs": [],
   "source": [
    "!g++ driver.cc -o lap\n",
    "!./lap"
   ]
  }
 ]
}