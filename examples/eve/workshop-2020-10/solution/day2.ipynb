{
 "metadata": {
  "language_info": {
   "codemirror_mode": {
    "name": "ipython",
    "version": 3
   },
   "file_extension": ".py",
   "mimetype": "text/x-python",
   "name": "python",
   "nbconvert_exporter": "python",
   "pygments_lexer": "ipython3",
   "version": "3.8.5-final"
  },
  "orig_nbformat": 2,
  "kernelspec": {
   "name": "Python 3.8.5 64-bit ('.eve.venv': venv)",
   "display_name": "Python 3.8.5 64-bit ('.eve.venv': venv)",
   "metadata": {
    "interpreter": {
     "hash": "e6b326ece5b751d181dee9ccaf6a65b49d127ad18523de0521bf0f61a6f8ec6a"
    }
   }
  }
 },
 "nbformat": 4,
 "nbformat_minor": 2,
 "cells": [
  {
   "source": [
    "# Eve hands-on day 2\n",
    "\n",
    "You start from a high level IR representing the following DSL\n",
    "\n",
    "```python\n",
    "def fun(out_field, in_field):\n",
    "    out_field = -4 * in_field[0,0] + in_field[-1,0] + in_field[1,0] + in_field[0,-1] + in_field[0,1]\n",
    "```\n",
    "\n",
    "- Write a pass: extent analysis\n",
    "- Lower from HIR to LIR\n",
    "\n",
    "The HIR is provided in the file `hir.py` as well as the implementation of the Laplacian in that dialect (see below).\n",
    "Feel free to change the skeleton for `ExtentAnalysis` and `HIRtoLIR` as you like."
   ],
   "cell_type": "markdown",
   "metadata": {}
  },
  {
   "source": [
    "## Preparation\n",
    "\n",
    "Create a new file called `lir.py` and put your dialect from *Day 1* into that file. For simplicity also put the code generator in this file."
   ],
   "cell_type": "markdown",
   "metadata": {}
  },
  {
   "cell_type": "code",
   "execution_count": 1,
   "metadata": {},
   "outputs": [
    {
     "output_type": "stream",
     "name": "stdout",
     "text": [
      "<ipython-input-1-6c194486fea7>:11 <module>\n    stencil: Stencil(\n        id_='Stencil_22',\n        name='lap',\n        params=[\n            FieldParam(\n                id_='FieldParam_20',\n                name='out',\n            ),\n            FieldParam(\n                id_='FieldParam_21',\n                name='in',\n            ),\n        ],\n        body=[\n            AssignStmt(\n                id_='AssignStmt_19',\n                left=FieldAccess(\n                    id_='FieldAccess_18',\n                    name='out',\n                    offset=Offset(\n                        id_='Offset_17',\n                        i=0,\n                        j=0,\n                    ),\n                ),\n                right=BinaryOp(\n                    id_='BinaryOp_16',\n                    left=BinaryOp(\n                        id_='BinaryOp_4',\n                        left=Literal(\n                            id_='Literal_1',\n                            value='-4',\n                        ),\n                        right=FieldAccess(\n                            id_='FieldAccess_3',\n                            name='in',\n                            offset=Offset(\n                                id_='Offset_2',\n                                i=0,\n                                j=0,\n                            ),\n                        ),\n                        op='*',\n                    ),\n                    right=BinaryOp(\n                        id_='BinaryOp_15',\n                        left=BinaryOp(\n                            id_='BinaryOp_9',\n                            left=FieldAccess(\n                                id_='FieldAccess_6',\n                                name='in',\n                                offset=Offset(\n                                    id_='Offset_5',\n                                    i=-1,\n                                    j=0,\n                                ),\n                            ),\n                            right=FieldAccess(\n                                id_='FieldAccess_8',\n                                name='in',\n                                offset=Offset(\n                                    id_='Offset_7',\n                                    i=1,\n                                    j=0,\n                                ),\n                            ),\n                            op='+',\n                        ),\n                        right=BinaryOp(\n                            id_='BinaryOp_14',\n                            left=FieldAccess(\n                                id_='FieldAccess_11',\n                                name='in',\n                                offset=Offset(\n                                    id_='Offset_10',\n                                    i=0,\n                                    j=-1,\n                                ),\n                            ),\n                            right=FieldAccess(\n                                id_='FieldAccess_13',\n                                name='in',\n                                offset=Offset(\n                                    id_='Offset_12',\n                                    i=0,\n                                    j=1,\n                                ),\n                            ),\n                            op='+',\n                        ),\n                        op='+',\n                    ),\n                    op='+',\n                ),\n            ),\n        ],\n    ) (Stencil)\n"
     ]
    }
   ],
   "source": [
    "# Definition of the Laplacian in HIR (don't change)\n",
    "\n",
    "import hir\n",
    "from hir import *\n",
    "\n",
    "lap_expr = BinaryOp(left=BinaryOp(left=Literal(value=\"-4\"), right=FieldAccess(name=\"in\", offset=Offset.zero()), op=\"*\"), right=BinaryOp(left=BinaryOp(left=FieldAccess(name=\"in\", offset=Offset(i=-1,j=0)),right=FieldAccess(name=\"in\", offset=Offset(i=1,j=0)),op=\"+\"),right=BinaryOp(left=FieldAccess(name=\"in\", offset=Offset(i=0,j=-1)),right=FieldAccess(name=\"in\", offset=Offset(i=0,j=1)),op=\"+\"),op=\"+\"), op=\"+\")\n",
    "assign = AssignStmt(left=FieldAccess(name=\"out\", offset=Offset.zero()), right=lap_expr)\n",
    "stencil = Stencil(name=\"lap\", params=[FieldParam(name=\"out\"), FieldParam(name=\"in\")], body=[assign])\n",
    "\n",
    "from devtools import debug\n",
    "debug(stencil)"
   ]
  },
  {
   "cell_type": "code",
   "execution_count": 2,
   "metadata": {},
   "outputs": [],
   "source": [
    "# Feel free to change the signature of the provided methods (or remove them) if you prefer a different structure.\n",
    "import eve\n",
    "\n",
    "class Extent(eve.Model):\n",
    "    i_left: int\n",
    "    i_right: int\n",
    "    j_left: int\n",
    "    j_right: int\n",
    "\n",
    "    @classmethod\n",
    "    def zero(cls):\n",
    "        return cls(i_left = 0, i_right = 0, j_left = 0, j_right = 0)\n",
    "\n",
    "    def __add__(self, other):\n",
    "        if other is None:\n",
    "            return self\n",
    "        else:\n",
    "            return type(self)(i_left=min(self.i_left, other.i_left), i_right=max(self.i_right, other.i_right),j_left=min(self.j_left, other.j_left), j_right=max(self.j_right, other.j_right))\n",
    "\n",
    "    @classmethod\n",
    "    def from_offset(cls, offset: Offset):\n",
    "        return cls(i_left=min(0, offset.i), i_right=max(0,offset.i), j_left=min(0,offset.j), j_right=max(0, offset.j))\n",
    "\n",
    "# class ExtentAnalysis(eve.NodeVisitor):\n",
    "#     def __init__(self, **kwargs):\n",
    "#         super().__init__()\n",
    "#         self.extents = {}\n",
    "\n",
    "#     @classmethod\n",
    "#     def apply(cls, root: Stencil, **kwargs):\n",
    "#         analysis = cls()\n",
    "#         analysis.visit(root)\n",
    "#         return analysis.extents\n",
    "\n",
    "#     def visit_FieldAccess(self, node: FieldAccess, **kwargs):\n",
    "#         if not kwargs[\"cur_assign\"]:\n",
    "#             raise ValueError(\"FieldAccess outside of assignment\")\n",
    "#         self.extents[kwargs[\"cur_assign\"]] += Extent.from_offset(node.offset)\n",
    "\n",
    "#     def visit_AssignStmt(self, node: AssignStmt, **kwargs):\n",
    "#         self.extents[node.id_] = Extent.zero()\n",
    "#         self.visit(node.right, cur_assign = node.id_)\n",
    "\n",
    "\n",
    "class ExtentAnalysis(eve.NodeVisitor):\n",
    "    @classmethod\n",
    "    def apply(cls, root: Stencil, **kwargs):\n",
    "        return cls().visit(root)\n",
    "        \n",
    "    def visit_Expr(self, node: Expr, **kwargs):\n",
    "        extent = Extent.zero()\n",
    "        for value in node.iter_children_values():\n",
    "            extent += self.visit(value, **kwargs)\n",
    "        return extent\n",
    "\n",
    "    def visit_FieldAccess(self, node: FieldAccess, **kwargs):\n",
    "        return Extent.from_offset(node.offset)\n",
    "\n",
    "    def visit_AssignStmt(self, node: AssignStmt, **kwargs):\n",
    "        return self.visit(node.right, **kwargs)\n",
    "    \n",
    "    def visit_Stencil(self, node: Stencil, **kwargs):\n",
    "        return {s.id_: self.visit(s, **kwargs) for s in node.body}\n"
   ]
  },
  {
   "cell_type": "code",
   "execution_count": 6,
   "metadata": {},
   "outputs": [],
   "source": [
    "# Feel free to change the signature of the provided methods (or remove them) if you prefer a different structure.\n",
    "\n",
    "import eve\n",
    "import lir\n",
    "\n",
    "class HIRToLIR(eve.NodeTranslator):\n",
    "    def __init__(self, extents, **kwargs):\n",
    "        self.extents = extents\n",
    "\n",
    "    @classmethod\n",
    "    def apply(cls, root: Stencil, extents, **kwargs):\n",
    "        hir_to_lir = cls(extents)\n",
    "        return hir_to_lir.visit(root)\n",
    "\n",
    "    def _literal_translation(self, node: Node, **kwargs):\n",
    "        new_class_name = node.__class__.__name__  # mapping[node.__class__]\n",
    "        new_class = getattr(lir, new_class_name)\n",
    "        return new_class(**{key: self.visit(value) for key, value in node.iter_children()})\n",
    "\n",
    "    visit_Literal = _literal_translation\n",
    "    visit_BinaryOp = _literal_translation\n",
    "    visit_FieldAccess = _literal_translation\n",
    "    visit_Offset = _literal_translation\n",
    "\n",
    "    # def visit_Literal(self, node: Literal, **kwargs):\n",
    "    #     return lir.Literal(value=node.value)\n",
    "\n",
    "    # def visit_BinaryOp(self, node: BinaryOp, **kwargs):\n",
    "    #     return lir.BinaryOp(left=self.visit(node.left), right=self.visit(node.right), op=node.op)\n",
    "    \n",
    "    # def visit_FieldAccess(self, node: FieldAccess, **kwargs):\n",
    "    #     return lir.FieldAccess(name=node.name, offset=self.visit(node.offset))\n",
    "    \n",
    "    # def visit_Offset(self, node: Offset, **kwargs):\n",
    "    #     return lir.Offset(i=node.i, j=node.j)\n",
    "\n",
    "    def visit_FieldParam(self, node: FieldParam, **kwargs):\n",
    "        return lir.FieldDecl(name=node.name)\n",
    "\n",
    "    def visit_AssignStmt(self, node: AssignStmt, **kwargs):\n",
    "        extent : Extent = self.extents[node.id_]\n",
    "        return lir.HorizontalLoop(body=[lir.AssignStmt(left=self.visit(node.left), right=self.visit(node.right))], i_indent=lir.Indent(left=-extent.i_left, right=extent.i_right), j_indent=lir.Indent(left=-extent.j_left, right=extent.j_right))\n",
    "\n",
    "    def visit_Stencil(self, node: Stencil, **kwargs):\n",
    "        return lir.Fun(name=node.name, params=[self.visit(p) for p in node.params], horizontal_loops=[self.visit(stmt) for stmt in node.body])\n"
   ]
  },
  {
   "cell_type": "code",
   "execution_count": 7,
   "metadata": {},
   "outputs": [
    {
     "output_type": "error",
     "ename": "AttributeError",
     "evalue": "'HIRToLIR' object has no attribute 'memo'",
     "traceback": [
      "\u001b[0;31m---------------------------------------------------------------------------\u001b[0m",
      "\u001b[0;31mAttributeError\u001b[0m                            Traceback (most recent call last)",
      "\u001b[0;32m<ipython-input-7-0d1a6690ead8>\u001b[0m in \u001b[0;36m<module>\u001b[0;34m\u001b[0m\n\u001b[1;32m      2\u001b[0m \u001b[0;34m\u001b[0m\u001b[0m\n\u001b[1;32m      3\u001b[0m \u001b[0mextents\u001b[0m \u001b[0;34m=\u001b[0m \u001b[0mExtentAnalysis\u001b[0m\u001b[0;34m.\u001b[0m\u001b[0mapply\u001b[0m\u001b[0;34m(\u001b[0m\u001b[0mstencil\u001b[0m\u001b[0;34m)\u001b[0m\u001b[0;34m\u001b[0m\u001b[0;34m\u001b[0m\u001b[0m\n\u001b[0;32m----> 4\u001b[0;31m \u001b[0mlir_stencil\u001b[0m \u001b[0;34m=\u001b[0m \u001b[0mHIRToLIR\u001b[0m\u001b[0;34m.\u001b[0m\u001b[0mapply\u001b[0m\u001b[0;34m(\u001b[0m\u001b[0mstencil\u001b[0m\u001b[0;34m,\u001b[0m \u001b[0mextents\u001b[0m\u001b[0;34m)\u001b[0m\u001b[0;34m\u001b[0m\u001b[0;34m\u001b[0m\u001b[0m\n\u001b[0m\u001b[1;32m      5\u001b[0m \u001b[0mdebug\u001b[0m\u001b[0;34m(\u001b[0m\u001b[0mlir_stencil\u001b[0m\u001b[0;34m)\u001b[0m\u001b[0;34m\u001b[0m\u001b[0;34m\u001b[0m\u001b[0m\n",
      "\u001b[0;32m<ipython-input-6-2363993d4800>\u001b[0m in \u001b[0;36mapply\u001b[0;34m(cls, root, extents, **kwargs)\u001b[0m\n\u001b[1;32m     11\u001b[0m     \u001b[0;32mdef\u001b[0m \u001b[0mapply\u001b[0m\u001b[0;34m(\u001b[0m\u001b[0mcls\u001b[0m\u001b[0;34m,\u001b[0m \u001b[0mroot\u001b[0m\u001b[0;34m:\u001b[0m \u001b[0mStencil\u001b[0m\u001b[0;34m,\u001b[0m \u001b[0mextents\u001b[0m\u001b[0;34m,\u001b[0m \u001b[0;34m**\u001b[0m\u001b[0mkwargs\u001b[0m\u001b[0;34m)\u001b[0m\u001b[0;34m:\u001b[0m\u001b[0;34m\u001b[0m\u001b[0;34m\u001b[0m\u001b[0m\n\u001b[1;32m     12\u001b[0m         \u001b[0mhir_to_lir\u001b[0m \u001b[0;34m=\u001b[0m \u001b[0mcls\u001b[0m\u001b[0;34m(\u001b[0m\u001b[0mextents\u001b[0m\u001b[0;34m)\u001b[0m\u001b[0;34m\u001b[0m\u001b[0;34m\u001b[0m\u001b[0m\n\u001b[0;32m---> 13\u001b[0;31m         \u001b[0;32mreturn\u001b[0m \u001b[0mhir_to_lir\u001b[0m\u001b[0;34m.\u001b[0m\u001b[0mvisit\u001b[0m\u001b[0;34m(\u001b[0m\u001b[0mroot\u001b[0m\u001b[0;34m)\u001b[0m\u001b[0;34m\u001b[0m\u001b[0;34m\u001b[0m\u001b[0m\n\u001b[0m\u001b[1;32m     14\u001b[0m \u001b[0;34m\u001b[0m\u001b[0m\n\u001b[1;32m     15\u001b[0m     \u001b[0;32mdef\u001b[0m \u001b[0m_literal_translation\u001b[0m\u001b[0;34m(\u001b[0m\u001b[0mself\u001b[0m\u001b[0;34m,\u001b[0m \u001b[0mnode\u001b[0m\u001b[0;34m:\u001b[0m \u001b[0mNode\u001b[0m\u001b[0;34m,\u001b[0m \u001b[0;34m**\u001b[0m\u001b[0mkwargs\u001b[0m\u001b[0;34m)\u001b[0m\u001b[0;34m:\u001b[0m\u001b[0;34m\u001b[0m\u001b[0;34m\u001b[0m\u001b[0m\n",
      "\u001b[0;32m~/git/gtc/src/eve/visitors.py\u001b[0m in \u001b[0;36mvisit\u001b[0;34m(self, node, **kwargs)\u001b[0m\n\u001b[1;32m     65\u001b[0m                     \u001b[0;32mbreak\u001b[0m\u001b[0;34m\u001b[0m\u001b[0;34m\u001b[0m\u001b[0m\n\u001b[1;32m     66\u001b[0m \u001b[0;34m\u001b[0m\u001b[0m\n\u001b[0;32m---> 67\u001b[0;31m         \u001b[0;32mreturn\u001b[0m \u001b[0mvisitor\u001b[0m\u001b[0;34m(\u001b[0m\u001b[0mnode\u001b[0m\u001b[0;34m,\u001b[0m \u001b[0;34m**\u001b[0m\u001b[0mkwargs\u001b[0m\u001b[0;34m)\u001b[0m\u001b[0;34m\u001b[0m\u001b[0;34m\u001b[0m\u001b[0m\n\u001b[0m\u001b[1;32m     68\u001b[0m \u001b[0;34m\u001b[0m\u001b[0m\n\u001b[1;32m     69\u001b[0m     \u001b[0;32mdef\u001b[0m \u001b[0mgeneric_visit\u001b[0m\u001b[0;34m(\u001b[0m\u001b[0mself\u001b[0m\u001b[0;34m,\u001b[0m \u001b[0mnode\u001b[0m\u001b[0;34m:\u001b[0m \u001b[0mconcepts\u001b[0m\u001b[0;34m.\u001b[0m\u001b[0mTreeNode\u001b[0m\u001b[0;34m,\u001b[0m \u001b[0;34m**\u001b[0m\u001b[0mkwargs\u001b[0m\u001b[0;34m:\u001b[0m \u001b[0mAny\u001b[0m\u001b[0;34m)\u001b[0m \u001b[0;34m->\u001b[0m \u001b[0mAny\u001b[0m\u001b[0;34m:\u001b[0m\u001b[0;34m\u001b[0m\u001b[0;34m\u001b[0m\u001b[0m\n",
      "\u001b[0;32m<ipython-input-6-2363993d4800>\u001b[0m in \u001b[0;36mvisit_Stencil\u001b[0;34m(self, node, **kwargs)\u001b[0m\n\u001b[1;32m     43\u001b[0m \u001b[0;34m\u001b[0m\u001b[0m\n\u001b[1;32m     44\u001b[0m     \u001b[0;32mdef\u001b[0m \u001b[0mvisit_Stencil\u001b[0m\u001b[0;34m(\u001b[0m\u001b[0mself\u001b[0m\u001b[0;34m,\u001b[0m \u001b[0mnode\u001b[0m\u001b[0;34m:\u001b[0m \u001b[0mStencil\u001b[0m\u001b[0;34m,\u001b[0m \u001b[0;34m**\u001b[0m\u001b[0mkwargs\u001b[0m\u001b[0;34m)\u001b[0m\u001b[0;34m:\u001b[0m\u001b[0;34m\u001b[0m\u001b[0;34m\u001b[0m\u001b[0m\n\u001b[0;32m---> 45\u001b[0;31m         \u001b[0;32mreturn\u001b[0m \u001b[0mlir\u001b[0m\u001b[0;34m.\u001b[0m\u001b[0mFun\u001b[0m\u001b[0;34m(\u001b[0m\u001b[0mname\u001b[0m\u001b[0;34m=\u001b[0m\u001b[0mnode\u001b[0m\u001b[0;34m.\u001b[0m\u001b[0mname\u001b[0m\u001b[0;34m,\u001b[0m \u001b[0mparams\u001b[0m\u001b[0;34m=\u001b[0m\u001b[0;34m[\u001b[0m\u001b[0mself\u001b[0m\u001b[0;34m.\u001b[0m\u001b[0mvisit\u001b[0m\u001b[0;34m(\u001b[0m\u001b[0mp\u001b[0m\u001b[0;34m)\u001b[0m \u001b[0;32mfor\u001b[0m \u001b[0mp\u001b[0m \u001b[0;32min\u001b[0m \u001b[0mnode\u001b[0m\u001b[0;34m.\u001b[0m\u001b[0mparams\u001b[0m\u001b[0;34m]\u001b[0m\u001b[0;34m,\u001b[0m \u001b[0mhorizontal_loops\u001b[0m\u001b[0;34m=\u001b[0m\u001b[0;34m[\u001b[0m\u001b[0mself\u001b[0m\u001b[0;34m.\u001b[0m\u001b[0mvisit\u001b[0m\u001b[0;34m(\u001b[0m\u001b[0mstmt\u001b[0m\u001b[0;34m)\u001b[0m \u001b[0;32mfor\u001b[0m \u001b[0mstmt\u001b[0m \u001b[0;32min\u001b[0m \u001b[0mnode\u001b[0m\u001b[0;34m.\u001b[0m\u001b[0mbody\u001b[0m\u001b[0;34m]\u001b[0m\u001b[0;34m)\u001b[0m\u001b[0;34m\u001b[0m\u001b[0;34m\u001b[0m\u001b[0m\n\u001b[0m",
      "\u001b[0;32m<ipython-input-6-2363993d4800>\u001b[0m in \u001b[0;36m<listcomp>\u001b[0;34m(.0)\u001b[0m\n\u001b[1;32m     43\u001b[0m \u001b[0;34m\u001b[0m\u001b[0m\n\u001b[1;32m     44\u001b[0m     \u001b[0;32mdef\u001b[0m \u001b[0mvisit_Stencil\u001b[0m\u001b[0;34m(\u001b[0m\u001b[0mself\u001b[0m\u001b[0;34m,\u001b[0m \u001b[0mnode\u001b[0m\u001b[0;34m:\u001b[0m \u001b[0mStencil\u001b[0m\u001b[0;34m,\u001b[0m \u001b[0;34m**\u001b[0m\u001b[0mkwargs\u001b[0m\u001b[0;34m)\u001b[0m\u001b[0;34m:\u001b[0m\u001b[0;34m\u001b[0m\u001b[0;34m\u001b[0m\u001b[0m\n\u001b[0;32m---> 45\u001b[0;31m         \u001b[0;32mreturn\u001b[0m \u001b[0mlir\u001b[0m\u001b[0;34m.\u001b[0m\u001b[0mFun\u001b[0m\u001b[0;34m(\u001b[0m\u001b[0mname\u001b[0m\u001b[0;34m=\u001b[0m\u001b[0mnode\u001b[0m\u001b[0;34m.\u001b[0m\u001b[0mname\u001b[0m\u001b[0;34m,\u001b[0m \u001b[0mparams\u001b[0m\u001b[0;34m=\u001b[0m\u001b[0;34m[\u001b[0m\u001b[0mself\u001b[0m\u001b[0;34m.\u001b[0m\u001b[0mvisit\u001b[0m\u001b[0;34m(\u001b[0m\u001b[0mp\u001b[0m\u001b[0;34m)\u001b[0m \u001b[0;32mfor\u001b[0m \u001b[0mp\u001b[0m \u001b[0;32min\u001b[0m \u001b[0mnode\u001b[0m\u001b[0;34m.\u001b[0m\u001b[0mparams\u001b[0m\u001b[0;34m]\u001b[0m\u001b[0;34m,\u001b[0m \u001b[0mhorizontal_loops\u001b[0m\u001b[0;34m=\u001b[0m\u001b[0;34m[\u001b[0m\u001b[0mself\u001b[0m\u001b[0;34m.\u001b[0m\u001b[0mvisit\u001b[0m\u001b[0;34m(\u001b[0m\u001b[0mstmt\u001b[0m\u001b[0;34m)\u001b[0m \u001b[0;32mfor\u001b[0m \u001b[0mstmt\u001b[0m \u001b[0;32min\u001b[0m \u001b[0mnode\u001b[0m\u001b[0;34m.\u001b[0m\u001b[0mbody\u001b[0m\u001b[0;34m]\u001b[0m\u001b[0;34m)\u001b[0m\u001b[0;34m\u001b[0m\u001b[0;34m\u001b[0m\u001b[0m\n\u001b[0m",
      "\u001b[0;32m~/git/gtc/src/eve/visitors.py\u001b[0m in \u001b[0;36mvisit\u001b[0;34m(self, node, **kwargs)\u001b[0m\n\u001b[1;32m     65\u001b[0m                     \u001b[0;32mbreak\u001b[0m\u001b[0;34m\u001b[0m\u001b[0;34m\u001b[0m\u001b[0m\n\u001b[1;32m     66\u001b[0m \u001b[0;34m\u001b[0m\u001b[0m\n\u001b[0;32m---> 67\u001b[0;31m         \u001b[0;32mreturn\u001b[0m \u001b[0mvisitor\u001b[0m\u001b[0;34m(\u001b[0m\u001b[0mnode\u001b[0m\u001b[0;34m,\u001b[0m \u001b[0;34m**\u001b[0m\u001b[0mkwargs\u001b[0m\u001b[0;34m)\u001b[0m\u001b[0;34m\u001b[0m\u001b[0;34m\u001b[0m\u001b[0m\n\u001b[0m\u001b[1;32m     68\u001b[0m \u001b[0;34m\u001b[0m\u001b[0m\n\u001b[1;32m     69\u001b[0m     \u001b[0;32mdef\u001b[0m \u001b[0mgeneric_visit\u001b[0m\u001b[0;34m(\u001b[0m\u001b[0mself\u001b[0m\u001b[0;34m,\u001b[0m \u001b[0mnode\u001b[0m\u001b[0;34m:\u001b[0m \u001b[0mconcepts\u001b[0m\u001b[0;34m.\u001b[0m\u001b[0mTreeNode\u001b[0m\u001b[0;34m,\u001b[0m \u001b[0;34m**\u001b[0m\u001b[0mkwargs\u001b[0m\u001b[0;34m:\u001b[0m \u001b[0mAny\u001b[0m\u001b[0;34m)\u001b[0m \u001b[0;34m->\u001b[0m \u001b[0mAny\u001b[0m\u001b[0;34m:\u001b[0m\u001b[0;34m\u001b[0m\u001b[0;34m\u001b[0m\u001b[0m\n",
      "\u001b[0;32m<ipython-input-6-2363993d4800>\u001b[0m in \u001b[0;36mvisit_AssignStmt\u001b[0;34m(self, node, **kwargs)\u001b[0m\n\u001b[1;32m     40\u001b[0m     \u001b[0;32mdef\u001b[0m \u001b[0mvisit_AssignStmt\u001b[0m\u001b[0;34m(\u001b[0m\u001b[0mself\u001b[0m\u001b[0;34m,\u001b[0m \u001b[0mnode\u001b[0m\u001b[0;34m:\u001b[0m \u001b[0mAssignStmt\u001b[0m\u001b[0;34m,\u001b[0m \u001b[0;34m**\u001b[0m\u001b[0mkwargs\u001b[0m\u001b[0;34m)\u001b[0m\u001b[0;34m:\u001b[0m\u001b[0;34m\u001b[0m\u001b[0;34m\u001b[0m\u001b[0m\n\u001b[1;32m     41\u001b[0m         \u001b[0mextent\u001b[0m \u001b[0;34m:\u001b[0m \u001b[0mExtent\u001b[0m \u001b[0;34m=\u001b[0m \u001b[0mself\u001b[0m\u001b[0;34m.\u001b[0m\u001b[0mextents\u001b[0m\u001b[0;34m[\u001b[0m\u001b[0mnode\u001b[0m\u001b[0;34m.\u001b[0m\u001b[0mid_\u001b[0m\u001b[0;34m]\u001b[0m\u001b[0;34m\u001b[0m\u001b[0;34m\u001b[0m\u001b[0m\n\u001b[0;32m---> 42\u001b[0;31m         \u001b[0;32mreturn\u001b[0m \u001b[0mlir\u001b[0m\u001b[0;34m.\u001b[0m\u001b[0mHorizontalLoop\u001b[0m\u001b[0;34m(\u001b[0m\u001b[0mbody\u001b[0m\u001b[0;34m=\u001b[0m\u001b[0;34m[\u001b[0m\u001b[0mlir\u001b[0m\u001b[0;34m.\u001b[0m\u001b[0mAssignStmt\u001b[0m\u001b[0;34m(\u001b[0m\u001b[0mleft\u001b[0m\u001b[0;34m=\u001b[0m\u001b[0mself\u001b[0m\u001b[0;34m.\u001b[0m\u001b[0mvisit\u001b[0m\u001b[0;34m(\u001b[0m\u001b[0mnode\u001b[0m\u001b[0;34m.\u001b[0m\u001b[0mleft\u001b[0m\u001b[0;34m)\u001b[0m\u001b[0;34m,\u001b[0m \u001b[0mright\u001b[0m\u001b[0;34m=\u001b[0m\u001b[0mself\u001b[0m\u001b[0;34m.\u001b[0m\u001b[0mvisit\u001b[0m\u001b[0;34m(\u001b[0m\u001b[0mnode\u001b[0m\u001b[0;34m.\u001b[0m\u001b[0mright\u001b[0m\u001b[0;34m)\u001b[0m\u001b[0;34m)\u001b[0m\u001b[0;34m]\u001b[0m\u001b[0;34m,\u001b[0m \u001b[0mi_indent\u001b[0m\u001b[0;34m=\u001b[0m\u001b[0mlir\u001b[0m\u001b[0;34m.\u001b[0m\u001b[0mIndent\u001b[0m\u001b[0;34m(\u001b[0m\u001b[0mleft\u001b[0m\u001b[0;34m=\u001b[0m\u001b[0;34m-\u001b[0m\u001b[0mextent\u001b[0m\u001b[0;34m.\u001b[0m\u001b[0mi_left\u001b[0m\u001b[0;34m,\u001b[0m \u001b[0mright\u001b[0m\u001b[0;34m=\u001b[0m\u001b[0mextent\u001b[0m\u001b[0;34m.\u001b[0m\u001b[0mi_right\u001b[0m\u001b[0;34m)\u001b[0m\u001b[0;34m,\u001b[0m \u001b[0mj_indent\u001b[0m\u001b[0;34m=\u001b[0m\u001b[0mlir\u001b[0m\u001b[0;34m.\u001b[0m\u001b[0mIndent\u001b[0m\u001b[0;34m(\u001b[0m\u001b[0mleft\u001b[0m\u001b[0;34m=\u001b[0m\u001b[0;34m-\u001b[0m\u001b[0mextent\u001b[0m\u001b[0;34m.\u001b[0m\u001b[0mj_left\u001b[0m\u001b[0;34m,\u001b[0m \u001b[0mright\u001b[0m\u001b[0;34m=\u001b[0m\u001b[0mextent\u001b[0m\u001b[0;34m.\u001b[0m\u001b[0mj_right\u001b[0m\u001b[0;34m)\u001b[0m\u001b[0;34m)\u001b[0m\u001b[0;34m\u001b[0m\u001b[0;34m\u001b[0m\u001b[0m\n\u001b[0m\u001b[1;32m     43\u001b[0m \u001b[0;34m\u001b[0m\u001b[0m\n\u001b[1;32m     44\u001b[0m     \u001b[0;32mdef\u001b[0m \u001b[0mvisit_Stencil\u001b[0m\u001b[0;34m(\u001b[0m\u001b[0mself\u001b[0m\u001b[0;34m,\u001b[0m \u001b[0mnode\u001b[0m\u001b[0;34m:\u001b[0m \u001b[0mStencil\u001b[0m\u001b[0;34m,\u001b[0m \u001b[0;34m**\u001b[0m\u001b[0mkwargs\u001b[0m\u001b[0;34m)\u001b[0m\u001b[0;34m:\u001b[0m\u001b[0;34m\u001b[0m\u001b[0;34m\u001b[0m\u001b[0m\n",
      "\u001b[0;32m~/git/gtc/src/eve/visitors.py\u001b[0m in \u001b[0;36mvisit\u001b[0;34m(self, node, **kwargs)\u001b[0m\n\u001b[1;32m     65\u001b[0m                     \u001b[0;32mbreak\u001b[0m\u001b[0;34m\u001b[0m\u001b[0;34m\u001b[0m\u001b[0m\n\u001b[1;32m     66\u001b[0m \u001b[0;34m\u001b[0m\u001b[0m\n\u001b[0;32m---> 67\u001b[0;31m         \u001b[0;32mreturn\u001b[0m \u001b[0mvisitor\u001b[0m\u001b[0;34m(\u001b[0m\u001b[0mnode\u001b[0m\u001b[0;34m,\u001b[0m \u001b[0;34m**\u001b[0m\u001b[0mkwargs\u001b[0m\u001b[0;34m)\u001b[0m\u001b[0;34m\u001b[0m\u001b[0;34m\u001b[0m\u001b[0m\n\u001b[0m\u001b[1;32m     68\u001b[0m \u001b[0;34m\u001b[0m\u001b[0m\n\u001b[1;32m     69\u001b[0m     \u001b[0;32mdef\u001b[0m \u001b[0mgeneric_visit\u001b[0m\u001b[0;34m(\u001b[0m\u001b[0mself\u001b[0m\u001b[0;34m,\u001b[0m \u001b[0mnode\u001b[0m\u001b[0;34m:\u001b[0m \u001b[0mconcepts\u001b[0m\u001b[0;34m.\u001b[0m\u001b[0mTreeNode\u001b[0m\u001b[0;34m,\u001b[0m \u001b[0;34m**\u001b[0m\u001b[0mkwargs\u001b[0m\u001b[0;34m:\u001b[0m \u001b[0mAny\u001b[0m\u001b[0;34m)\u001b[0m \u001b[0;34m->\u001b[0m \u001b[0mAny\u001b[0m\u001b[0;34m:\u001b[0m\u001b[0;34m\u001b[0m\u001b[0;34m\u001b[0m\u001b[0m\n",
      "\u001b[0;32m<ipython-input-6-2363993d4800>\u001b[0m in \u001b[0;36m_literal_translation\u001b[0;34m(self, node, **kwargs)\u001b[0m\n\u001b[1;32m     16\u001b[0m         \u001b[0mnew_class_name\u001b[0m \u001b[0;34m=\u001b[0m \u001b[0mnode\u001b[0m\u001b[0;34m.\u001b[0m\u001b[0m__class__\u001b[0m\u001b[0;34m.\u001b[0m\u001b[0m__name__\u001b[0m  \u001b[0;31m# mapping[node.__class__]\u001b[0m\u001b[0;34m\u001b[0m\u001b[0;34m\u001b[0m\u001b[0m\n\u001b[1;32m     17\u001b[0m         \u001b[0mnew_class\u001b[0m \u001b[0;34m=\u001b[0m \u001b[0mgetattr\u001b[0m\u001b[0;34m(\u001b[0m\u001b[0mlir\u001b[0m\u001b[0;34m,\u001b[0m \u001b[0mnew_class_name\u001b[0m\u001b[0;34m)\u001b[0m\u001b[0;34m\u001b[0m\u001b[0;34m\u001b[0m\u001b[0m\n\u001b[0;32m---> 18\u001b[0;31m         \u001b[0;32mreturn\u001b[0m \u001b[0mnew_class\u001b[0m\u001b[0;34m(\u001b[0m\u001b[0;34m**\u001b[0m\u001b[0;34m{\u001b[0m\u001b[0mkey\u001b[0m\u001b[0;34m:\u001b[0m \u001b[0mself\u001b[0m\u001b[0;34m.\u001b[0m\u001b[0mvisit\u001b[0m\u001b[0;34m(\u001b[0m\u001b[0mvalue\u001b[0m\u001b[0;34m)\u001b[0m \u001b[0;32mfor\u001b[0m \u001b[0mkey\u001b[0m\u001b[0;34m,\u001b[0m \u001b[0mvalue\u001b[0m \u001b[0;32min\u001b[0m \u001b[0mnode\u001b[0m\u001b[0;34m.\u001b[0m\u001b[0miter_children\u001b[0m\u001b[0;34m(\u001b[0m\u001b[0;34m)\u001b[0m\u001b[0;34m}\u001b[0m\u001b[0;34m)\u001b[0m\u001b[0;34m\u001b[0m\u001b[0;34m\u001b[0m\u001b[0m\n\u001b[0m\u001b[1;32m     19\u001b[0m \u001b[0;34m\u001b[0m\u001b[0m\n\u001b[1;32m     20\u001b[0m     \u001b[0mvisit_Literal\u001b[0m \u001b[0;34m=\u001b[0m \u001b[0m_literal_translation\u001b[0m\u001b[0;34m\u001b[0m\u001b[0;34m\u001b[0m\u001b[0m\n",
      "\u001b[0;32m<ipython-input-6-2363993d4800>\u001b[0m in \u001b[0;36m<dictcomp>\u001b[0;34m(.0)\u001b[0m\n\u001b[1;32m     16\u001b[0m         \u001b[0mnew_class_name\u001b[0m \u001b[0;34m=\u001b[0m \u001b[0mnode\u001b[0m\u001b[0;34m.\u001b[0m\u001b[0m__class__\u001b[0m\u001b[0;34m.\u001b[0m\u001b[0m__name__\u001b[0m  \u001b[0;31m# mapping[node.__class__]\u001b[0m\u001b[0;34m\u001b[0m\u001b[0;34m\u001b[0m\u001b[0m\n\u001b[1;32m     17\u001b[0m         \u001b[0mnew_class\u001b[0m \u001b[0;34m=\u001b[0m \u001b[0mgetattr\u001b[0m\u001b[0;34m(\u001b[0m\u001b[0mlir\u001b[0m\u001b[0;34m,\u001b[0m \u001b[0mnew_class_name\u001b[0m\u001b[0;34m)\u001b[0m\u001b[0;34m\u001b[0m\u001b[0;34m\u001b[0m\u001b[0m\n\u001b[0;32m---> 18\u001b[0;31m         \u001b[0;32mreturn\u001b[0m \u001b[0mnew_class\u001b[0m\u001b[0;34m(\u001b[0m\u001b[0;34m**\u001b[0m\u001b[0;34m{\u001b[0m\u001b[0mkey\u001b[0m\u001b[0;34m:\u001b[0m \u001b[0mself\u001b[0m\u001b[0;34m.\u001b[0m\u001b[0mvisit\u001b[0m\u001b[0;34m(\u001b[0m\u001b[0mvalue\u001b[0m\u001b[0;34m)\u001b[0m \u001b[0;32mfor\u001b[0m \u001b[0mkey\u001b[0m\u001b[0;34m,\u001b[0m \u001b[0mvalue\u001b[0m \u001b[0;32min\u001b[0m \u001b[0mnode\u001b[0m\u001b[0;34m.\u001b[0m\u001b[0miter_children\u001b[0m\u001b[0;34m(\u001b[0m\u001b[0;34m)\u001b[0m\u001b[0;34m}\u001b[0m\u001b[0;34m)\u001b[0m\u001b[0;34m\u001b[0m\u001b[0;34m\u001b[0m\u001b[0m\n\u001b[0m\u001b[1;32m     19\u001b[0m \u001b[0;34m\u001b[0m\u001b[0m\n\u001b[1;32m     20\u001b[0m     \u001b[0mvisit_Literal\u001b[0m \u001b[0;34m=\u001b[0m \u001b[0m_literal_translation\u001b[0m\u001b[0;34m\u001b[0m\u001b[0;34m\u001b[0m\u001b[0m\n",
      "\u001b[0;32m~/git/gtc/src/eve/visitors.py\u001b[0m in \u001b[0;36mvisit\u001b[0;34m(self, node, **kwargs)\u001b[0m\n\u001b[1;32m     65\u001b[0m                     \u001b[0;32mbreak\u001b[0m\u001b[0;34m\u001b[0m\u001b[0;34m\u001b[0m\u001b[0m\n\u001b[1;32m     66\u001b[0m \u001b[0;34m\u001b[0m\u001b[0m\n\u001b[0;32m---> 67\u001b[0;31m         \u001b[0;32mreturn\u001b[0m \u001b[0mvisitor\u001b[0m\u001b[0;34m(\u001b[0m\u001b[0mnode\u001b[0m\u001b[0;34m,\u001b[0m \u001b[0;34m**\u001b[0m\u001b[0mkwargs\u001b[0m\u001b[0;34m)\u001b[0m\u001b[0;34m\u001b[0m\u001b[0;34m\u001b[0m\u001b[0m\n\u001b[0m\u001b[1;32m     68\u001b[0m \u001b[0;34m\u001b[0m\u001b[0m\n\u001b[1;32m     69\u001b[0m     \u001b[0;32mdef\u001b[0m \u001b[0mgeneric_visit\u001b[0m\u001b[0;34m(\u001b[0m\u001b[0mself\u001b[0m\u001b[0;34m,\u001b[0m \u001b[0mnode\u001b[0m\u001b[0;34m:\u001b[0m \u001b[0mconcepts\u001b[0m\u001b[0;34m.\u001b[0m\u001b[0mTreeNode\u001b[0m\u001b[0;34m,\u001b[0m \u001b[0;34m**\u001b[0m\u001b[0mkwargs\u001b[0m\u001b[0;34m:\u001b[0m \u001b[0mAny\u001b[0m\u001b[0;34m)\u001b[0m \u001b[0;34m->\u001b[0m \u001b[0mAny\u001b[0m\u001b[0;34m:\u001b[0m\u001b[0;34m\u001b[0m\u001b[0;34m\u001b[0m\u001b[0m\n",
      "\u001b[0;32m~/git/gtc/src/eve/visitors.py\u001b[0m in \u001b[0;36mgeneric_visit\u001b[0;34m(self, node, **kwargs)\u001b[0m\n\u001b[1;32m    125\u001b[0m \u001b[0;34m\u001b[0m\u001b[0m\n\u001b[1;32m    126\u001b[0m         \u001b[0;32melse\u001b[0m\u001b[0;34m:\u001b[0m\u001b[0;34m\u001b[0m\u001b[0;34m\u001b[0m\u001b[0m\n\u001b[0;32m--> 127\u001b[0;31m             \u001b[0mresult\u001b[0m \u001b[0;34m=\u001b[0m \u001b[0mcopy\u001b[0m\u001b[0;34m.\u001b[0m\u001b[0mdeepcopy\u001b[0m\u001b[0;34m(\u001b[0m\u001b[0mnode\u001b[0m\u001b[0;34m,\u001b[0m \u001b[0mmemo\u001b[0m\u001b[0;34m=\u001b[0m\u001b[0mself\u001b[0m\u001b[0;34m.\u001b[0m\u001b[0mmemo\u001b[0m\u001b[0;34m)\u001b[0m\u001b[0;34m\u001b[0m\u001b[0;34m\u001b[0m\u001b[0m\n\u001b[0m\u001b[1;32m    128\u001b[0m \u001b[0;34m\u001b[0m\u001b[0m\n\u001b[1;32m    129\u001b[0m         \u001b[0;32mreturn\u001b[0m \u001b[0mresult\u001b[0m\u001b[0;34m\u001b[0m\u001b[0;34m\u001b[0m\u001b[0m\n",
      "\u001b[0;31mAttributeError\u001b[0m: 'HIRToLIR' object has no attribute 'memo'"
     ]
    }
   ],
   "source": [
    "# No need to change anything here (except if you changed names of passes or signature of apply)\n",
    "\n",
    "extents = ExtentAnalysis.apply(stencil)\n",
    "lir_stencil = HIRToLIR.apply(stencil, extents)\n",
    "debug(lir_stencil)"
   ]
  },
  {
   "cell_type": "code",
   "execution_count": 8,
   "metadata": {},
   "outputs": [
    {
     "output_type": "error",
     "ename": "NameError",
     "evalue": "name 'lir_stencil' is not defined",
     "traceback": [
      "\u001b[0;31m---------------------------------------------------------------------------\u001b[0m",
      "\u001b[0;31mNameError\u001b[0m                                 Traceback (most recent call last)",
      "\u001b[0;32m<ipython-input-8-a0a73c2580e3>\u001b[0m in \u001b[0;36m<module>\u001b[0;34m\u001b[0m\n\u001b[1;32m      2\u001b[0m \u001b[0;32mimport\u001b[0m \u001b[0mos\u001b[0m\u001b[0;34m\u001b[0m\u001b[0;34m\u001b[0m\u001b[0m\n\u001b[1;32m      3\u001b[0m \u001b[0;34m\u001b[0m\u001b[0m\n\u001b[0;32m----> 4\u001b[0;31m \u001b[0mcppcode\u001b[0m \u001b[0;34m=\u001b[0m \u001b[0mlir\u001b[0m\u001b[0;34m.\u001b[0m\u001b[0mLIR_to_cpp\u001b[0m\u001b[0;34m.\u001b[0m\u001b[0mapply\u001b[0m\u001b[0;34m(\u001b[0m\u001b[0mlir_stencil\u001b[0m\u001b[0;34m)\u001b[0m\u001b[0;34m\u001b[0m\u001b[0;34m\u001b[0m\u001b[0m\n\u001b[0m\u001b[1;32m      5\u001b[0m \u001b[0mformatted_code\u001b[0m \u001b[0;34m=\u001b[0m \u001b[0meve\u001b[0m\u001b[0;34m.\u001b[0m\u001b[0mcodegen\u001b[0m\u001b[0;34m.\u001b[0m\u001b[0mformat_source\u001b[0m\u001b[0;34m(\u001b[0m\u001b[0;34m\"cpp\"\u001b[0m\u001b[0;34m,\u001b[0m \u001b[0mcppcode\u001b[0m\u001b[0;34m,\u001b[0m \u001b[0mstyle\u001b[0m\u001b[0;34m=\u001b[0m\u001b[0;34m\"LLVM\"\u001b[0m\u001b[0;34m)\u001b[0m\u001b[0;34m\u001b[0m\u001b[0;34m\u001b[0m\u001b[0m\n\u001b[1;32m      6\u001b[0m \u001b[0mprint\u001b[0m\u001b[0;34m(\u001b[0m\u001b[0mformatted_code\u001b[0m\u001b[0;34m)\u001b[0m\u001b[0;34m\u001b[0m\u001b[0;34m\u001b[0m\u001b[0m\n",
      "\u001b[0;31mNameError\u001b[0m: name 'lir_stencil' is not defined"
     ]
    }
   ],
   "source": [
    "# Don't touch\n",
    "import os\n",
    "\n",
    "cppcode = lir.LIR_to_cpp.apply(lir_stencil)\n",
    "formatted_code = eve.codegen.format_source(\"cpp\", cppcode, style=\"LLVM\")\n",
    "print(formatted_code)\n",
    "\n",
    "output_file = \"generated.hpp\"\n",
    "with open(output_file, \"w+\") as output:\n",
    "    output.write(formatted_code)"
   ]
  },
  {
   "cell_type": "code",
   "execution_count": 9,
   "metadata": {},
   "outputs": [
    {
     "output_type": "stream",
     "name": "stdout",
     "text": [
      "In file included from \u001b[01m\u001b[Kdriver.cc:5\u001b[m\u001b[K:\n",
      "\u001b[01m\u001b[Kgenerated.hpp:1:2:\u001b[m\u001b[K \u001b[01;31m\u001b[Kerror: \u001b[m\u001b[Kexpected unqualified-id before numeric constant\n",
      "    1 | (\u001b[01;31m\u001b[K1\u001b[m\u001b[K+1)\n",
      "      |  \u001b[01;31m\u001b[K^\u001b[m\u001b[K\n",
      "\u001b[01m\u001b[Kgenerated.hpp:1:2:\u001b[m\u001b[K \u001b[01;31m\u001b[Kerror: \u001b[m\u001b[Kexpected ‘\u001b[01m\u001b[K)\u001b[m\u001b[K’ before numeric constant\n",
      "    1 | \u001b[34m\u001b[K(\u001b[m\u001b[K\u001b[01;31m\u001b[K1\u001b[m\u001b[K+1)\n",
      "      | \u001b[34m\u001b[K~\u001b[m\u001b[K\u001b[01;31m\u001b[K^\u001b[m\u001b[K\n",
      "      |  \u001b[32m\u001b[K)\u001b[m\u001b[K\n",
      "/bin/bash: ./lap: No such file or directory\n"
     ]
    }
   ],
   "source": [
    "!g++ driver.cc -o lap\n",
    "!./lap"
   ]
  }
 ]
}