{
 "metadata": {
  "language_info": {
   "codemirror_mode": {
    "name": "ipython",
    "version": 3
   },
   "file_extension": ".py",
   "mimetype": "text/x-python",
   "name": "python",
   "nbconvert_exporter": "python",
   "pygments_lexer": "ipython3",
   "version": "3.8.5-final"
  },
  "orig_nbformat": 2,
  "kernelspec": {
   "name": "Python 3.8.5 64-bit ('.eve.venv': venv)",
   "display_name": "Python 3.8.5 64-bit ('.eve.venv': venv)",
   "metadata": {
    "interpreter": {
     "hash": "e6b326ece5b751d181dee9ccaf6a65b49d127ad18523de0521bf0f61a6f8ec6a"
    }
   }
  }
 },
 "nbformat": 4,
 "nbformat_minor": 2,
 "cells": [
  {
   "source": [
    "# Eve hands-on day 2\n",
    "\n",
    "You start from a high level IR representing the following DSL\n",
    "\n",
    "```python\n",
    "def fun(out_field, in_field):\n",
    "    out_field = -4 * in_field[0,0] + in_field[-1,0] + in_field[1,0] + in_field[0,-1] + in_field[0,1]\n",
    "```\n",
    "\n",
    "- Write a pass: extent analysis\n",
    "- Lower from HIR to LIR\n",
    "\n",
    "The HIR is provided in the file `hir.py` as well as the implementation of the Laplacian in that dialect (see below).\n",
    "Feel free to change the skeleton for `ExtentAnalysis` and `HIRtoLIR` as you like."
   ],
   "cell_type": "markdown",
   "metadata": {}
  },
  {
   "source": [
    "## Preparation\n",
    "\n",
    "Create a new file called `lir.py` and put your dialect from *Day 1* into that file. For simplicity also put the code generator in this file."
   ],
   "cell_type": "markdown",
   "metadata": {}
  },
  {
   "cell_type": "code",
   "execution_count": null,
   "metadata": {},
   "outputs": [],
   "source": [
    "# Definition of the Laplacian in HIR (don't change)\n",
    "\n",
    "import hir\n",
    "from hir import *\n",
    "\n",
    "lap_expr = BinaryOp(left=BinaryOp(left=Literal(value=\"-4\"), right=FieldAccess(name=\"in\", offset=Offset.zero()), op=\"*\"), right=BinaryOp(left=BinaryOp(left=FieldAccess(name=\"in\", offset=Offset(i=-1,j=0)),right=FieldAccess(name=\"in\", offset=Offset(i=1,j=0)),op=\"+\"),right=BinaryOp(left=FieldAccess(name=\"in\", offset=Offset(i=0,j=-1)),right=FieldAccess(name=\"in\", offset=Offset(i=0,j=1)),op=\"+\"),op=\"+\"), op=\"+\")\n",
    "assign = AssignStmt(left=FieldAccess(name=\"out\", offset=Offset.zero()), right=lap_expr)\n",
    "stencil = Stencil(name=\"lap\", params=[FieldParam(name=\"out\"), FieldParam(name=\"in\")], body=[assign])\n",
    "\n",
    "from devtools import debug\n",
    "debug(stencil)"
   ]
  },
  {
   "cell_type": "code",
   "execution_count": null,
   "metadata": {},
   "outputs": [],
   "source": [
    "# Feel free to change the signature of the provided methods (or remove them) if you prefer a different structure.\n",
    "import eve\n",
    "\n",
    "class Extent(eve.Model):\n",
    "    i_left: int\n",
    "    i_right: int\n",
    "    j_left: int\n",
    "    j_right: int\n",
    "\n",
    "    @classmethod\n",
    "    def zero(cls):\n",
    "        return cls(i_left = 0, i_right = 0, j_left = 0, j_right = 0)\n",
    "\n",
    "    def __add__(self, other):\n",
    "        return type(self)(i_left=min(self.i_left, other.i_left), i_right=max(self.i_right, other.i_right),j_left=min(self.j_left, other.j_left), j_right=max(self.j_right, other.j_right))\n",
    "\n",
    "    @classmethod\n",
    "    def from_offset(cls, offset: Offset):\n",
    "        return cls(i_left=min(0, offset.i), i_right=max(0,offset.i), j_left=min(0,offset.j), j_right=max(0, offset.j))\n",
    "\n",
    "\n",
    "class ExtentAnalysis(eve.NodeVisitor):\n",
    "    @classmethod\n",
    "    def apply(cls, root: Stencil, **kwargs):\n",
    "        return cls().visit(root)"
   ]
  },
  {
   "cell_type": "code",
   "execution_count": null,
   "metadata": {},
   "outputs": [],
   "source": [
    "# Feel free to change the signature of the provided methods (or remove them) if you prefer a different structure.\n",
    "\n",
    "import eve\n",
    "import lir\n",
    "\n",
    "class HIRToLIR(eve.NodeTranslator):\n",
    "    def __init__(self, extents, **kwargs):\n",
    "        self.extents = extents\n",
    "\n",
    "    @classmethod\n",
    "    def apply(cls, root: Stencil, extents, **kwargs):\n",
    "        hir_to_lir = cls(extents)\n",
    "        return hir_to_lir.visit(root)\n",
    "\n",
    "    def visit_Literal(self, node: Literal, **kwargs):\n",
    "        return lir.Literal(value=node.value)\n",
    "\n",
    "    def visit_BinaryOp(self, node: BinaryOp, **kwargs):\n",
    "        return lir.BinaryOp(left=self.visit(node.left), right=self.visit(node.right), op=node.op)\n",
    "    \n",
    "    # TODO "
   ]
  },
  {
   "cell_type": "code",
   "execution_count": null,
   "metadata": {},
   "outputs": [],
   "source": [
    "# No need to change anything here (except if you changed names of passes or signature of apply)\n",
    "\n",
    "extents = ExtentAnalysis.apply(stencil)\n",
    "lir_stencil = HIRToLIR.apply(stencil, extents)\n",
    "debug(lir_stencil)"
   ]
  },
  {
   "cell_type": "code",
   "execution_count": null,
   "metadata": {},
   "outputs": [],
   "source": [
    "# Don't touch\n",
    "import os\n",
    "\n",
    "cppcode = lir.LIR_to_cpp.apply(lir_stencil)\n",
    "formatted_code = eve.codegen.format_source(\"cpp\", cppcode, style=\"LLVM\")\n",
    "print(formatted_code)\n",
    "\n",
    "output_file = \"generated.hpp\"\n",
    "with open(output_file, \"w+\") as output:\n",
    "    output.write(formatted_code)"
   ]
  },
  {
   "cell_type": "code",
   "execution_count": null,
   "metadata": {},
   "outputs": [],
   "source": [
    "!g++ driver.cc -o lap\n",
    "!./lap"
   ]
  }
 ]
}