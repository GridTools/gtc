{
 "metadata": {
  "language_info": {
   "codemirror_mode": {
    "name": "ipython",
    "version": 3
   },
   "file_extension": ".py",
   "mimetype": "text/x-python",
   "name": "python",
   "nbconvert_exporter": "python",
   "pygments_lexer": "ipython3",
   "version": "3.8.5-final"
  },
  "orig_nbformat": 2,
  "kernelspec": {
   "name": "Python 3.8.5 64-bit ('.eve.venv': venv)",
   "display_name": "Python 3.8.5 64-bit ('.eve.venv': venv)",
   "metadata": {
    "interpreter": {
     "hash": "e6b326ece5b751d181dee9ccaf6a65b49d127ad18523de0521bf0f61a6f8ec6a"
    }
   }
  }
 },
 "nbformat": 4,
 "nbformat_minor": 2,
 "cells": [
  {
   "source": [
    "# Eve hands-on\n",
    "\n",
    "Day 1:\n",
    "- Write a low-level IR (LIR) (close to the generated code)\n",
    "- Write a code generator for C++ from the IR\n",
    "\n",
    "Day 2:\n",
    "- Start from a high-level IR (HIR) representing a DSL\n",
    "- Write a pass: extent analysis\n",
    "- Lower from HIR to LIR\n",
    "\n",
    "# Day 1\n",
    "\n",
    "## Problem\n",
    "\n",
    "```cpp\n",
    "void fun(std::array<int,2> domain, field& out, field const& in) {\n",
    "    assert();\n",
    "    assert();\n",
    "    for(std::size_t i = 1; i < domain[0] - 1; ++i) {\n",
    "        for(std::size_t j = 1; j < domain[1] - 1; ++j) {\n",
    "            out[i][j] = -4. * in[i][j]\n",
    "                + in[i-1][j] + in[i+1][j]\n",
    "                + in[i][j-1] + in[i][j-1];\n",
    "        }\n",
    "    }\n",
    "}\n",
    "```\n",
    "\n",
    "## Task\n",
    "\n",
    "1. Write the low-level IR in Eve to represent stencil codes like the one in the example above. Don't try to implement the general case, but just nodes required to solve the concrete problem.\n",
    "2. Write a code generator which generates simple C++ code as in the example above."
   ],
   "cell_type": "markdown",
   "metadata": {}
  },
  {
   "cell_type": "code",
   "execution_count": 1,
   "metadata": {},
   "outputs": [],
   "source": [
    "# Define the IR here\n",
    "\n",
    "from eve import Node, Str\n",
    "from typing import List\n",
    "\n",
    "class Expr(Node):\n",
    "    pass\n",
    "\n",
    "class Literal(Expr):\n",
    "    value: Str\n",
    "\n",
    "class BinaryOp(Expr):\n",
    "    left: Expr\n",
    "    right: Expr\n",
    "    op: Str"
   ]
  },
  {
   "cell_type": "code",
   "execution_count": 2,
   "metadata": {},
   "outputs": [
    {
     "output_type": "stream",
     "name": "stdout",
     "text": [
      "<ipython-input-2-2de6f16c08e5>:7 <module>\n    binop: BinaryOp(\n        id_='BinaryOp_3',\n        left=Literal(\n            id_='Literal_1',\n            value='1',\n        ),\n        right=Literal(\n            id_='Literal_2',\n            value='1',\n        ),\n        op='+',\n    ) (BinaryOp)\n"
     ]
    }
   ],
   "source": [
    "# Programmatically construct a concrete IR for the Laplacian example\n",
    "\n",
    "from devtools import debug\n",
    "\n",
    "# always use keyword arguments for fields\n",
    "binop = BinaryOp(left=Literal(value=\"1\"), right=Literal(value=\"1\"), op=\"+\")\n",
    "debug(binop)\n"
   ]
  },
  {
   "cell_type": "code",
   "execution_count": 3,
   "metadata": {},
   "outputs": [],
   "source": [
    "# Code generator\n",
    "\n",
    "from eve.codegen import FormatTemplate as as_fmt, TemplatedGenerator\n",
    "\n",
    "class LIR_to_cpp(TemplatedGenerator):\n",
    "    Literal = as_fmt(\"{value}\")\n",
    "    BinaryOp = as_fmt(\"({left}{op}{right})\")"
   ]
  },
  {
   "cell_type": "code",
   "execution_count": 5,
   "metadata": {},
   "outputs": [
    {
     "output_type": "stream",
     "name": "stdout",
     "text": [
      "(1+1)\n"
     ]
    }
   ],
   "source": [
    "# Call the generator\n",
    "\n",
    "import os\n",
    "from eve.codegen import format_source\n",
    "\n",
    "cppcode = LIR_to_cpp.apply(binop)\n",
    "formatted_code = format_source(\"cpp\", cppcode, style=\"LLVM\")\n",
    "print(formatted_code)\n",
    "\n",
    "output_file = \"generated.hpp\"\n",
    "with open(output_file, \"w+\") as output:\n",
    "    output.write(formatted_code)"
   ]
  },
  {
   "cell_type": "code",
   "execution_count": 7,
   "metadata": {},
   "outputs": [
    {
     "output_type": "stream",
     "name": "stdout",
     "text": [
      "In file included from \u001b[01m\u001b[Kdriver.cc:5\u001b[m\u001b[K:\n",
      "\u001b[01m\u001b[Kgenerated.hpp:1:2:\u001b[m\u001b[K \u001b[01;31m\u001b[Kerror: \u001b[m\u001b[Kexpected unqualified-id before numeric constant\n",
      "    1 | (\u001b[01;31m\u001b[K1\u001b[m\u001b[K+1)\n",
      "      |  \u001b[01;31m\u001b[K^\u001b[m\u001b[K\n",
      "\u001b[01m\u001b[Kgenerated.hpp:1:2:\u001b[m\u001b[K \u001b[01;31m\u001b[Kerror: \u001b[m\u001b[Kexpected ‘\u001b[01m\u001b[K)\u001b[m\u001b[K’ before numeric constant\n",
      "    1 | \u001b[34m\u001b[K(\u001b[m\u001b[K\u001b[01;31m\u001b[K1\u001b[m\u001b[K+1)\n",
      "      | \u001b[34m\u001b[K~\u001b[m\u001b[K\u001b[01;31m\u001b[K^\u001b[m\u001b[K\n",
      "      |  \u001b[32m\u001b[K)\u001b[m\u001b[K\n",
      "/bin/bash: ./lap: No such file or directory\n"
     ]
    }
   ],
   "source": [
    "!g++ driver.cc -o lap\n",
    "!./lap"
   ]
  }
 ]
}