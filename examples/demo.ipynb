{
 "cells": [
  {
   "cell_type": "markdown",
   "execution_count": null,
   "metadata": {},
   "outputs": [],
   "source": [
    "## Eve toolchain demo"
   ]
  },
  {
   "cell_type": "markdown",
   "execution_count": null,
   "metadata": {},
   "outputs": [],
   "source": [
    "### Imports"
   ]
  },
  {
   "cell_type": "code",
   "execution_count": 1,
   "metadata": {},
   "outputs": [],
   "source": [
    "# Standard type annotation module used for field type definitions\n",
    "import typing\n",
    "from typing import Optional, Dict, List\n",
    "\n",
    "# Useful debugging & pretty printing tools:\n",
    "#   https://python-devtools.helpmanual.io/\n",
    "import devtools\n",
    "from devtools import debug\n",
    "\n",
    "# Attrs / Dataclass-like package on stereoids:\n",
    "#    https://pydantic-docs.helpmanual.io/\n",
    "import pydantic\n",
    "from pydantic import Field, BaseModel\n",
    "\n",
    "# Eve toolchain\n",
    "import eve\n",
    "from eve import ir\n",
    "from eve.ir import Node\n",
    "from eve.transformations import TransformationPass"
   ]
  },
  {
   "cell_type": "markdown",
   "execution_count": null,
   "metadata": {},
   "outputs": [],
   "source": [
    "**Jupyter hint:** Use `?` to get information about a method or class"
   ]
  },
  {
   "cell_type": "code",
   "execution_count": 2,
   "metadata": {},
   "outputs": [],
   "source": [
    "eve.NodeVisitor?"
   ]
  },
  {
   "cell_type": "markdown",
   "execution_count": null,
   "metadata": {},
   "outputs": [],
   "source": [
    "### Create your own IR tree"
   ]
  },
  {
   "cell_type": "code",
   "execution_count": 3,
   "metadata": {},
   "outputs": [
    {
     "name": "stdout",
     "output_type": "stream",
     "text": "<ipython-input-3-1e4a32c1e4fb>:7 <module>\n    m: BinaryOpExpr(\n        node_id_=5,\n        node_kind_='BinaryOpExpr',\n        op=<BinaryOperator.MUL: '*'>,\n        left=BinaryOpExpr(\n            node_id_=3,\n            node_kind_='BinaryOpExpr',\n            op=<BinaryOperator.ADD: '+'>,\n            left=LiteralExpr(\n                node_id_=1,\n                node_kind_='LiteralExpr',\n                value='3',\n                data_type=<DataType.INT32: 101>,\n                loc=None,\n            ),\n            right=LiteralExpr(\n                node_id_=2,\n                node_kind_='LiteralExpr',\n                value='5',\n                data_type=<DataType.INT32: 101>,\n                loc=None,\n            ),\n            loc=None,\n        ),\n        right=BinaryOpExpr(\n            node_id_=4,\n            node_kind_='BinaryOpExpr',\n            op=<BinaryOperator.SUB: '-'>,\n            left=LiteralExpr(\n                node_id_=1,\n                node_kind_='LiteralExpr',\n                value='3',\n                data_type=<DataType.INT32: 101>,\n                loc=None,\n            ),\n            right=LiteralExpr(\n                node_id_=2,\n                node_kind_='LiteralExpr',\n                value='5',\n                data_type=<DataType.INT32: 101>,\n                loc=None,\n            ),\n            loc=None,\n        ),\n        loc=None,\n    ) (BinaryOpExpr)\n"
    }
   ],
   "source": [
    "v_3 = ir.LiteralExpr(value=\"3\", data_type=ir.DataType.INT32)\n",
    "v_5 = ir.LiteralExpr(value=\"5\", data_type=ir.DataType.INT32)\n",
    "a = ir.BinaryOpExpr(op=ir.BinaryOperator.ADD, left=v_3, right=v_5)\n",
    "s = ir.BinaryOpExpr(op=ir.BinaryOperator.SUB, left=v_3, right=v_5)\n",
    "m = ir.BinaryOpExpr(op=ir.BinaryOperator.MUL, left=a, right=s)\n",
    "\n",
    "debug(m)"
   ]
  },
  {
   "cell_type": "markdown",
   "execution_count": null,
   "metadata": {},
   "outputs": [],
   "source": [
    "### Define your own nodes as _pydantic_ models inheriting from _eve.Node_ (or _eve.InmutableNode_)"
   ]
  },
  {
   "cell_type": "code",
   "execution_count": 4,
   "metadata": {},
   "outputs": [
    {
     "data": {
      "text/plain": "MyNewNode(node_id_=6, node_kind_='MyNewNode', natural_number=2, text_field='', loc=None)"
     },
     "execution_count": 4,
     "metadata": {},
     "output_type": "execute_result"
    }
   ],
   "source": [
    "class MyNewNode(eve.Node):\n",
    "    natural_number: int = Field(..., description=\"Natural number (int > 0)\", gt=0)\n",
    "    text_field: str = Field(\"\", description=\"Optional text field (default: ''\")\n",
    "    loc: Optional[ir.SourceLocation]\n",
    "\n",
    "\n",
    "my_node = MyNewNode(natural_number=2)\n",
    "\n",
    "# Nodes have two hidden automatic fields with an unique _id_ (`node_id_`)\n",
    "# and the name of the class as a string (`node_kind_`)\n",
    "my_node"
   ]
  },
  {
   "cell_type": "markdown",
   "execution_count": null,
   "metadata": {},
   "outputs": [],
   "source": [
    "### Define your own transformation passes "
   ]
  },
  {
   "cell_type": "code",
   "execution_count": 5,
   "metadata": {},
   "outputs": [
    {
     "name": "stdout",
     "output_type": "stream",
     "text": "Empty pass\n- Same value: True\n- Same reference: False\nDummy pass\n- Same value: False\n- Same reference: False\n"
    }
   ],
   "source": [
    "# Empty pass: it clones the tree\n",
    "m_new = TransformationPass.apply(m)\n",
    "print(\"Empty pass\")\n",
    "print(\"- Same value:\", m == m_new)\n",
    "print(\"- Same reference:\", m is m_new)\n",
    "\n",
    "# Example pass: clones and modifies the new tree\n",
    "class DummyPass(TransformationPass):\n",
    "    def visit_LiteralExpr(self, node: Node, **kwargs):\n",
    "        return ir.LiteralExpr(value=node.value + \"__cloned\", data_type=node.data_type)\n",
    "\n",
    "\n",
    "m_new = DummyPass.apply(m)\n",
    "print(\"Dummy pass\")\n",
    "print(\"- Same value:\", m == m_new)\n",
    "print(\"- Same reference:\", m is m_new)"
   ]
  },
  {
   "cell_type": "markdown",
   "execution_count": null,
   "metadata": {},
   "outputs": [],
   "source": [
    "### Create your own dialects as collections of related IR nodes"
   ]
  },
  {
   "cell_type": "code",
   "execution_count": 6,
   "metadata": {},
   "outputs": [
    {
     "name": "stdout",
     "output_type": "stream",
     "text": "{<class 'eve.ir.UnaryOpExpr'>, <class 'eve.ir.BinaryOpExpr'>, <class 'eve.ir.LiteralExpr'>}\n{<class 'eve.ir.UnaryOpExpr'>, <class 'eve.ir.TernaryOpExpr'>, <class 'eve.ir.BinaryOpExpr'>, <class 'eve.ir.LiteralExpr'>}\nSimple dialect checker (expected True): True\nSimple dialect checker (expected False): False\nAdvanced dialect checker (expected True): True\n"
    }
   ],
   "source": [
    "import collections\n",
    "\n",
    "simple_dialect = {ir.LiteralExpr, ir.UnaryOpExpr, ir.BinaryOpExpr}\n",
    "print(simple_dialect)\n",
    "\n",
    "advanced_dialect = {*simple_dialect, ir.TernaryOpExpr}\n",
    "print(advanced_dialect)\n",
    "\n",
    "\n",
    "class CheckDialect(eve.NodeVisitor):\n",
    "    @classmethod\n",
    "    def apply(cls, dialect: typing.Collection[Node], node: Node, **kwargs):\n",
    "        return cls(dialect, **kwargs).visit(node)\n",
    "\n",
    "    def __init__(self, dialect: typing.Collection[Node], **kwargs):\n",
    "        assert isinstance(dialect, collections.abc.Collection)\n",
    "        self.dialect = dialect\n",
    "        self.is_ok = True\n",
    "\n",
    "    def visit_Node(self, node: Node, **kwargs):\n",
    "        self.is_ok = self.is_ok and node.__class__ in self.dialect\n",
    "        return self.is_ok\n",
    "\n",
    "\n",
    "print(\"Simple dialect checker (expected True):\", CheckDialect.apply(simple_dialect, m))\n",
    "t = ir.TernaryOpExpr(\n",
    "    cond=ir.LiteralExpr(value=\"3\", data_type=ir.DataType.BOOLEAN), left=m, right=m\n",
    ")\n",
    "\n",
    "print(\"Simple dialect checker (expected False):\", CheckDialect.apply(simple_dialect, t))\n",
    "print(\n",
    "    \"Advanced dialect checker (expected True):\", CheckDialect.apply(advanced_dialect, t)\n",
    ")"
   ]
  },
  {
   "cell_type": "code",
   "execution_count": null,
   "metadata": {},
   "outputs": [],
   "source": []
  }
 ],
 "metadata": {
  "kernelspec": {
   "display_name": "Python 3",
   "language": "python",
   "name": "python3"
  },
  "language_info": {
   "codemirror_mode": {
    "name": "ipython",
    "version": 3
   },
   "file_extension": ".py",
   "mimetype": "text/x-python",
   "name": "python",
   "nbconvert_exporter": "python",
   "pygments_lexer": "ipython3",
   "version": "3.6.9-final"
  }
 },
 "nbformat": 4,
 "nbformat_minor": 4
}